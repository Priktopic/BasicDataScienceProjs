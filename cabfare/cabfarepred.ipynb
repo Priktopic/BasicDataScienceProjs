{
 "cells": [
  {
   "cell_type": "code",
   "execution_count": 1724,
   "metadata": {},
   "outputs": [],
   "source": [
    "import numpy as np \n",
    "import pandas as pd\n",
    "import matplotlib.pyplot as plt\n",
    "import seaborn as sns\n",
    "import datetime as dt\n",
    "from sklearn.model_selection import train_test_split\n",
    "import xgboost as xgb\n",
    "import lightgbm as lgbm\n",
    "from sklearn import metrics\n",
    "from sklearn.metrics import mean_squared_error\n",
    "import os\n",
    "from sklearn.ensemble import RandomForestRegressor\n",
    "from sklearn.linear_model import LinearRegression\n",
    "from sklearn.impute import SimpleImputer"
   ]
  },
  {
   "cell_type": "code",
   "execution_count": 1647,
   "metadata": {},
   "outputs": [],
   "source": [
    "train_df =  pd.read_csv('train_cab.csv')"
   ]
  },
  {
   "cell_type": "code",
   "execution_count": 1648,
   "metadata": {},
   "outputs": [],
   "source": [
    "test_df =  pd.read_csv('test.csv')"
   ]
  },
  {
   "cell_type": "code",
   "execution_count": 1649,
   "metadata": {},
   "outputs": [
    {
     "data": {
      "text/plain": [
       "fare_amount          float64\n",
       "pickup_datetime       object\n",
       "pickup_longitude     float64\n",
       "pickup_latitude      float64\n",
       "dropoff_longitude    float64\n",
       "dropoff_latitude     float64\n",
       "passenger_count      float64\n",
       "dtype: object"
      ]
     },
     "execution_count": 1649,
     "metadata": {},
     "output_type": "execute_result"
    }
   ],
   "source": [
    "train_df.dtypes"
   ]
  },
  {
   "cell_type": "code",
   "execution_count": 1650,
   "metadata": {},
   "outputs": [
    {
     "data": {
      "text/plain": [
       "pickup_datetime       object\n",
       "pickup_longitude     float64\n",
       "pickup_latitude      float64\n",
       "dropoff_longitude    float64\n",
       "dropoff_latitude     float64\n",
       "passenger_count        int64\n",
       "dtype: object"
      ]
     },
     "execution_count": 1650,
     "metadata": {},
     "output_type": "execute_result"
    }
   ],
   "source": [
    "test_df.dtypes"
   ]
  },
  {
   "cell_type": "code",
   "execution_count": 1651,
   "metadata": {},
   "outputs": [
    {
     "data": {
      "text/plain": [
       "(16067, 7)"
      ]
     },
     "execution_count": 1651,
     "metadata": {},
     "output_type": "execute_result"
    }
   ],
   "source": [
    "train_df.shape"
   ]
  },
  {
   "cell_type": "code",
   "execution_count": 1652,
   "metadata": {},
   "outputs": [
    {
     "data": {
      "text/plain": [
       "(9914, 6)"
      ]
     },
     "execution_count": 1652,
     "metadata": {},
     "output_type": "execute_result"
    }
   ],
   "source": [
    "test_df.shape"
   ]
  },
  {
   "cell_type": "code",
   "execution_count": 1653,
   "metadata": {},
   "outputs": [
    {
     "data": {
      "text/plain": [
       "{'whiskers': [<matplotlib.lines.Line2D at 0x7f5b23f68dd8>,\n",
       "  <matplotlib.lines.Line2D at 0x7f5b23f68eb8>],\n",
       " 'caps': [<matplotlib.lines.Line2D at 0x7f5b23f754a8>,\n",
       "  <matplotlib.lines.Line2D at 0x7f5b23f757f0>],\n",
       " 'boxes': [<matplotlib.lines.Line2D at 0x7f5b23f689b0>],\n",
       " 'medians': [<matplotlib.lines.Line2D at 0x7f5b23f75b38>],\n",
       " 'fliers': [<matplotlib.lines.Line2D at 0x7f5b23f75e80>],\n",
       " 'means': []}"
      ]
     },
     "execution_count": 1653,
     "metadata": {},
     "output_type": "execute_result"
    },
    {
     "data": {
      "image/png": "[encoded data removed]",
      "text/plain": [
       "<Figure size 432x288 with 1 Axes>"
      ]
     },
     "metadata": {
      "needs_background": "light"
     },
     "output_type": "display_data"
    }
   ],
   "source": [
    "#Outlier Analysis\n",
    "%matplotlib inline\n",
    "plt.boxplot(train_df['pickup_longitude'])"
   ]
  },
  {
   "cell_type": "code",
   "execution_count": 1654,
   "metadata": {},
   "outputs": [
    {
     "data": {
      "text/plain": [
       "{'whiskers': [<matplotlib.lines.Line2D at 0x7f5b23e4a400>,\n",
       "  <matplotlib.lines.Line2D at 0x7f5b23e4a748>],\n",
       " 'caps': [<matplotlib.lines.Line2D at 0x7f5b23e4aa90>,\n",
       "  <matplotlib.lines.Line2D at 0x7f5b23e4add8>],\n",
       " 'boxes': [<matplotlib.lines.Line2D at 0x7f5b23ebbf98>],\n",
       " 'medians': [<matplotlib.lines.Line2D at 0x7f5b23e4aeb8>],\n",
       " 'fliers': [<matplotlib.lines.Line2D at 0x7f5b23e534a8>],\n",
       " 'means': []}"
      ]
     },
     "execution_count": 1654,
     "metadata": {},
     "output_type": "execute_result"
    },
    {
     "data": {
      "image/png": "[encoded data removed]",
      "text/plain": [
       "<Figure size 432x288 with 1 Axes>"
      ]
     },
     "metadata": {
      "needs_background": "light"
     },
     "output_type": "display_data"
    }
   ],
   "source": [
    "\n",
    "#Outlier Analysis\n",
    "%matplotlib inline\n",
    "plt.boxplot(train_df['pickup_latitude'])\n"
   ]
  },
  {
   "cell_type": "code",
   "execution_count": 1655,
   "metadata": {},
   "outputs": [
    {
     "data": {
      "text/plain": [
       "{'whiskers': [<matplotlib.lines.Line2D at 0x7f5b23e16dd8>,\n",
       "  <matplotlib.lines.Line2D at 0x7f5b23e23438>],\n",
       " 'caps': [<matplotlib.lines.Line2D at 0x7f5b23e23780>,\n",
       "  <matplotlib.lines.Line2D at 0x7f5b23e23ac8>],\n",
       " 'boxes': [<matplotlib.lines.Line2D at 0x7f5b23e16c88>],\n",
       " 'medians': [<matplotlib.lines.Line2D at 0x7f5b23e23e10>],\n",
       " 'fliers': [<matplotlib.lines.Line2D at 0x7f5b23e23ef0>],\n",
       " 'means': []}"
      ]
     },
     "execution_count": 1655,
     "metadata": {},
     "output_type": "execute_result"
    },
    {
     "data": {
      "image/png": "[encoded data removed]",
      "text/plain": [
       "<Figure size 432x288 with 1 Axes>"
      ]
     },
     "metadata": {
      "needs_background": "light"
     },
     "output_type": "display_data"
    }
   ],
   "source": [
    "#Outlier Analysis\n",
    "%matplotlib inline\n",
    "plt.boxplot(train_df['dropoff_longitude'])"
   ]
  },
  {
   "cell_type": "code",
   "execution_count": 1656,
   "metadata": {},
   "outputs": [
    {
     "data": {
      "text/plain": [
       "{'whiskers': [<matplotlib.lines.Line2D at 0x7f5b23dfe668>,\n",
       "  <matplotlib.lines.Line2D at 0x7f5b23dfe9b0>],\n",
       " 'caps': [<matplotlib.lines.Line2D at 0x7f5b23dfecf8>,\n",
       "  <matplotlib.lines.Line2D at 0x7f5b23dfedd8>],\n",
       " 'boxes': [<matplotlib.lines.Line2D at 0x7f5b23dfe240>],\n",
       " 'medians': [<matplotlib.lines.Line2D at 0x7f5b23d863c8>],\n",
       " 'fliers': [<matplotlib.lines.Line2D at 0x7f5b23d86710>],\n",
       " 'means': []}"
      ]
     },
     "execution_count": 1656,
     "metadata": {},
     "output_type": "execute_result"
    },
    {
     "data": {
      "image/png": "[encoded data removed]",
      "text/plain": [
       "<Figure size 432x288 with 1 Axes>"
      ]
     },
     "metadata": {
      "needs_background": "light"
     },
     "output_type": "display_data"
    }
   ],
   "source": [
    "#Outlier Analysis\n",
    "%matplotlib inline\n",
    "plt.boxplot(train_df['dropoff_latitude'])"
   ]
  },
  {
   "cell_type": "code",
   "execution_count": 1657,
   "metadata": {},
   "outputs": [
    {
     "name": "stderr",
     "output_type": "stream",
     "text": [
      "/home/priyanka/anaconda3/lib/python3.7/site-packages/matplotlib/cbook/__init__.py:1316: RuntimeWarning: invalid value encountered in less_equal\n",
      "  wiskhi = x[x <= hival]\n",
      "/home/priyanka/anaconda3/lib/python3.7/site-packages/matplotlib/cbook/__init__.py:1323: RuntimeWarning: invalid value encountered in greater_equal\n",
      "  wisklo = x[x >= loval]\n",
      "/home/priyanka/anaconda3/lib/python3.7/site-packages/matplotlib/cbook/__init__.py:1331: RuntimeWarning: invalid value encountered in less\n",
      "  x[x < stats['whislo']],\n",
      "/home/priyanka/anaconda3/lib/python3.7/site-packages/matplotlib/cbook/__init__.py:1332: RuntimeWarning: invalid value encountered in greater\n",
      "  x[x > stats['whishi']],\n"
     ]
    },
    {
     "data": {
      "text/plain": [
       "{'whiskers': [<matplotlib.lines.Line2D at 0x7f5b23d55748>,\n",
       "  <matplotlib.lines.Line2D at 0x7f5b23d557b8>],\n",
       " 'caps': [<matplotlib.lines.Line2D at 0x7f5b23d55b00>,\n",
       "  <matplotlib.lines.Line2D at 0x7f5b23d55f28>],\n",
       " 'boxes': [<matplotlib.lines.Line2D at 0x7f5b23d55390>],\n",
       " 'medians': [<matplotlib.lines.Line2D at 0x7f5b23d621d0>],\n",
       " 'fliers': [<matplotlib.lines.Line2D at 0x7f5b23d62518>],\n",
       " 'means': []}"
      ]
     },
     "execution_count": 1657,
     "metadata": {},
     "output_type": "execute_result"
    },
    {
     "data": {
      "image/png": "[encoded data removed]",
      "text/plain": [
       "<Figure size 432x288 with 1 Axes>"
      ]
     },
     "metadata": {
      "needs_background": "light"
     },
     "output_type": "display_data"
    }
   ],
   "source": [
    "#Outlier Analysis\n",
    "%matplotlib inline\n",
    "plt.boxplot(train_df['passenger_count'])\n"
   ]
  },
  {
   "cell_type": "code",
   "execution_count": 1658,
   "metadata": {},
   "outputs": [],
   "source": [
    "\n",
    "train_df[\"fare_amount\"] = pd.to_numeric(train_df[\"fare_amount\"])"
   ]
  },
  {
   "cell_type": "code",
   "execution_count": 1659,
   "metadata": {},
   "outputs": [
    {
     "data": {
      "text/plain": [
       "count    16067.000000\n",
       "mean        39.914725\n",
       "std          6.826587\n",
       "min        -74.006893\n",
       "25%         40.734927\n",
       "50%         40.752603\n",
       "75%         40.767381\n",
       "max        401.083332\n",
       "Name: pickup_latitude, dtype: float64"
      ]
     },
     "execution_count": 1659,
     "metadata": {},
     "output_type": "execute_result"
    }
   ],
   "source": [
    "train_df['pickup_latitude'].describe()"
   ]
  },
  {
   "cell_type": "code",
   "execution_count": 1660,
   "metadata": {},
   "outputs": [
    {
     "data": {
      "text/plain": [
       "count    16067.000000\n",
       "mean       -72.462787\n",
       "std         10.578384\n",
       "min        -74.438233\n",
       "25%        -73.992156\n",
       "50%        -73.981698\n",
       "75%        -73.966838\n",
       "max         40.766125\n",
       "Name: pickup_longitude, dtype: float64"
      ]
     },
     "execution_count": 1660,
     "metadata": {},
     "output_type": "execute_result"
    }
   ],
   "source": [
    "train_df['pickup_longitude'].describe()"
   ]
  },
  {
   "cell_type": "code",
   "execution_count": 1661,
   "metadata": {},
   "outputs": [
    {
     "data": {
      "text/html": [
       "<div>\n",
       "<style scoped>\n",
       "    .dataframe tbody tr th:only-of-type {\n",
       "        vertical-align: middle;\n",
       "    }\n",
       "\n",
       "    .dataframe tbody tr th {\n",
       "        vertical-align: top;\n",
       "    }\n",
       "\n",
       "    .dataframe thead th {\n",
       "        text-align: right;\n",
       "    }\n",
       "</style>\n",
       "<table border=\"1\" class=\"dataframe\">\n",
       "  <thead>\n",
       "    <tr style=\"text-align: right;\">\n",
       "      <th></th>\n",
       "      <th>fare_amount</th>\n",
       "      <th>pickup_datetime</th>\n",
       "      <th>pickup_longitude</th>\n",
       "      <th>pickup_latitude</th>\n",
       "      <th>dropoff_longitude</th>\n",
       "      <th>dropoff_latitude</th>\n",
       "      <th>passenger_count</th>\n",
       "    </tr>\n",
       "  </thead>\n",
       "  <tbody>\n",
       "  </tbody>\n",
       "</table>\n",
       "</div>"
      ],
      "text/plain": [
       "Empty DataFrame\n",
       "Columns: [fare_amount, pickup_datetime, pickup_longitude, pickup_latitude, dropoff_longitude, dropoff_latitude, passenger_count]\n",
       "Index: []"
      ]
     },
     "execution_count": 1661,
     "metadata": {},
     "output_type": "execute_result"
    }
   ],
   "source": [
    "#Latitudes range from -90 to 90.\n",
    "#Longitudes range from -180 to 180.\n",
    "\n",
    "train_df[train_df['pickup_latitude']< -90]"
   ]
  },
  {
   "cell_type": "code",
   "execution_count": 1662,
   "metadata": {},
   "outputs": [
    {
     "data": {
      "text/html": [
       "<div>\n",
       "<style scoped>\n",
       "    .dataframe tbody tr th:only-of-type {\n",
       "        vertical-align: middle;\n",
       "    }\n",
       "\n",
       "    .dataframe tbody tr th {\n",
       "        vertical-align: top;\n",
       "    }\n",
       "\n",
       "    .dataframe thead th {\n",
       "        text-align: right;\n",
       "    }\n",
       "</style>\n",
       "<table border=\"1\" class=\"dataframe\">\n",
       "  <thead>\n",
       "    <tr style=\"text-align: right;\">\n",
       "      <th></th>\n",
       "      <th>fare_amount</th>\n",
       "      <th>pickup_datetime</th>\n",
       "      <th>pickup_longitude</th>\n",
       "      <th>pickup_latitude</th>\n",
       "      <th>dropoff_longitude</th>\n",
       "      <th>dropoff_latitude</th>\n",
       "      <th>passenger_count</th>\n",
       "    </tr>\n",
       "  </thead>\n",
       "  <tbody>\n",
       "    <tr>\n",
       "      <th>5686</th>\n",
       "      <td>3.3</td>\n",
       "      <td>2011-07-30 11:15:00 UTC</td>\n",
       "      <td>-73.947235</td>\n",
       "      <td>401.083332</td>\n",
       "      <td>-73.951392</td>\n",
       "      <td>40.778927</td>\n",
       "      <td>1.0</td>\n",
       "    </tr>\n",
       "  </tbody>\n",
       "</table>\n",
       "</div>"
      ],
      "text/plain": [
       "      fare_amount          pickup_datetime  pickup_longitude  pickup_latitude  \\\n",
       "5686          3.3  2011-07-30 11:15:00 UTC        -73.947235       401.083332   \n",
       "\n",
       "      dropoff_longitude  dropoff_latitude  passenger_count  \n",
       "5686         -73.951392         40.778927              1.0  "
      ]
     },
     "execution_count": 1662,
     "metadata": {},
     "output_type": "execute_result"
    }
   ],
   "source": [
    "train_df[train_df['pickup_latitude']>90]"
   ]
  },
  {
   "cell_type": "code",
   "execution_count": 1663,
   "metadata": {},
   "outputs": [],
   "source": [
    "#deleting the outlier\n",
    "train_df = train_df.drop(((train_df[train_df['pickup_latitude']<-90])|(train_df[train_df['pickup_latitude']>90])).index, axis=0)"
   ]
  },
  {
   "cell_type": "code",
   "execution_count": 1664,
   "metadata": {},
   "outputs": [
    {
     "data": {
      "text/plain": [
       "(16066, 7)"
      ]
     },
     "execution_count": 1664,
     "metadata": {},
     "output_type": "execute_result"
    }
   ],
   "source": [
    "train_df.shape"
   ]
  },
  {
   "cell_type": "code",
   "execution_count": 1665,
   "metadata": {},
   "outputs": [
    {
     "data": {
      "text/html": [
       "<div>\n",
       "<style scoped>\n",
       "    .dataframe tbody tr th:only-of-type {\n",
       "        vertical-align: middle;\n",
       "    }\n",
       "\n",
       "    .dataframe tbody tr th {\n",
       "        vertical-align: top;\n",
       "    }\n",
       "\n",
       "    .dataframe thead th {\n",
       "        text-align: right;\n",
       "    }\n",
       "</style>\n",
       "<table border=\"1\" class=\"dataframe\">\n",
       "  <thead>\n",
       "    <tr style=\"text-align: right;\">\n",
       "      <th></th>\n",
       "      <th>fare_amount</th>\n",
       "      <th>pickup_datetime</th>\n",
       "      <th>pickup_longitude</th>\n",
       "      <th>pickup_latitude</th>\n",
       "      <th>dropoff_longitude</th>\n",
       "      <th>dropoff_latitude</th>\n",
       "      <th>passenger_count</th>\n",
       "    </tr>\n",
       "  </thead>\n",
       "  <tbody>\n",
       "  </tbody>\n",
       "</table>\n",
       "</div>"
      ],
      "text/plain": [
       "Empty DataFrame\n",
       "Columns: [fare_amount, pickup_datetime, pickup_longitude, pickup_latitude, dropoff_longitude, dropoff_latitude, passenger_count]\n",
       "Index: []"
      ]
     },
     "execution_count": 1665,
     "metadata": {},
     "output_type": "execute_result"
    }
   ],
   "source": [
    "train_df[train_df['pickup_longitude']< -180]"
   ]
  },
  {
   "cell_type": "code",
   "execution_count": 1666,
   "metadata": {},
   "outputs": [
    {
     "data": {
      "text/html": [
       "<div>\n",
       "<style scoped>\n",
       "    .dataframe tbody tr th:only-of-type {\n",
       "        vertical-align: middle;\n",
       "    }\n",
       "\n",
       "    .dataframe tbody tr th {\n",
       "        vertical-align: top;\n",
       "    }\n",
       "\n",
       "    .dataframe thead th {\n",
       "        text-align: right;\n",
       "    }\n",
       "</style>\n",
       "<table border=\"1\" class=\"dataframe\">\n",
       "  <thead>\n",
       "    <tr style=\"text-align: right;\">\n",
       "      <th></th>\n",
       "      <th>fare_amount</th>\n",
       "      <th>pickup_datetime</th>\n",
       "      <th>pickup_longitude</th>\n",
       "      <th>pickup_latitude</th>\n",
       "      <th>dropoff_longitude</th>\n",
       "      <th>dropoff_latitude</th>\n",
       "      <th>passenger_count</th>\n",
       "    </tr>\n",
       "  </thead>\n",
       "  <tbody>\n",
       "  </tbody>\n",
       "</table>\n",
       "</div>"
      ],
      "text/plain": [
       "Empty DataFrame\n",
       "Columns: [fare_amount, pickup_datetime, pickup_longitude, pickup_latitude, dropoff_longitude, dropoff_latitude, passenger_count]\n",
       "Index: []"
      ]
     },
     "execution_count": 1666,
     "metadata": {},
     "output_type": "execute_result"
    }
   ],
   "source": [
    "train_df[train_df['pickup_longitude']>180]\n",
    "#no outliers to be deleted"
   ]
  },
  {
   "cell_type": "code",
   "execution_count": 1667,
   "metadata": {},
   "outputs": [
    {
     "data": {
      "text/html": [
       "<div>\n",
       "<style scoped>\n",
       "    .dataframe tbody tr th:only-of-type {\n",
       "        vertical-align: middle;\n",
       "    }\n",
       "\n",
       "    .dataframe tbody tr th {\n",
       "        vertical-align: top;\n",
       "    }\n",
       "\n",
       "    .dataframe thead th {\n",
       "        text-align: right;\n",
       "    }\n",
       "</style>\n",
       "<table border=\"1\" class=\"dataframe\">\n",
       "  <thead>\n",
       "    <tr style=\"text-align: right;\">\n",
       "      <th></th>\n",
       "      <th>fare_amount</th>\n",
       "      <th>pickup_datetime</th>\n",
       "      <th>pickup_longitude</th>\n",
       "      <th>pickup_latitude</th>\n",
       "      <th>dropoff_longitude</th>\n",
       "      <th>dropoff_latitude</th>\n",
       "      <th>passenger_count</th>\n",
       "    </tr>\n",
       "  </thead>\n",
       "  <tbody>\n",
       "  </tbody>\n",
       "</table>\n",
       "</div>"
      ],
      "text/plain": [
       "Empty DataFrame\n",
       "Columns: [fare_amount, pickup_datetime, pickup_longitude, pickup_latitude, dropoff_longitude, dropoff_latitude, passenger_count]\n",
       "Index: []"
      ]
     },
     "execution_count": 1667,
     "metadata": {},
     "output_type": "execute_result"
    }
   ],
   "source": [
    "train_df[train_df['dropoff_latitude']<-90]\n"
   ]
  },
  {
   "cell_type": "code",
   "execution_count": 1668,
   "metadata": {},
   "outputs": [
    {
     "data": {
      "text/html": [
       "<div>\n",
       "<style scoped>\n",
       "    .dataframe tbody tr th:only-of-type {\n",
       "        vertical-align: middle;\n",
       "    }\n",
       "\n",
       "    .dataframe tbody tr th {\n",
       "        vertical-align: top;\n",
       "    }\n",
       "\n",
       "    .dataframe thead th {\n",
       "        text-align: right;\n",
       "    }\n",
       "</style>\n",
       "<table border=\"1\" class=\"dataframe\">\n",
       "  <thead>\n",
       "    <tr style=\"text-align: right;\">\n",
       "      <th></th>\n",
       "      <th>fare_amount</th>\n",
       "      <th>pickup_datetime</th>\n",
       "      <th>pickup_longitude</th>\n",
       "      <th>pickup_latitude</th>\n",
       "      <th>dropoff_longitude</th>\n",
       "      <th>dropoff_latitude</th>\n",
       "      <th>passenger_count</th>\n",
       "    </tr>\n",
       "  </thead>\n",
       "  <tbody>\n",
       "  </tbody>\n",
       "</table>\n",
       "</div>"
      ],
      "text/plain": [
       "Empty DataFrame\n",
       "Columns: [fare_amount, pickup_datetime, pickup_longitude, pickup_latitude, dropoff_longitude, dropoff_latitude, passenger_count]\n",
       "Index: []"
      ]
     },
     "execution_count": 1668,
     "metadata": {},
     "output_type": "execute_result"
    }
   ],
   "source": [
    "train_df[train_df['dropoff_latitude']>90]\n",
    "#no outliers to be deleted"
   ]
  },
  {
   "cell_type": "code",
   "execution_count": 1669,
   "metadata": {},
   "outputs": [
    {
     "data": {
      "text/html": [
       "<div>\n",
       "<style scoped>\n",
       "    .dataframe tbody tr th:only-of-type {\n",
       "        vertical-align: middle;\n",
       "    }\n",
       "\n",
       "    .dataframe tbody tr th {\n",
       "        vertical-align: top;\n",
       "    }\n",
       "\n",
       "    .dataframe thead th {\n",
       "        text-align: right;\n",
       "    }\n",
       "</style>\n",
       "<table border=\"1\" class=\"dataframe\">\n",
       "  <thead>\n",
       "    <tr style=\"text-align: right;\">\n",
       "      <th></th>\n",
       "      <th>fare_amount</th>\n",
       "      <th>pickup_datetime</th>\n",
       "      <th>pickup_longitude</th>\n",
       "      <th>pickup_latitude</th>\n",
       "      <th>dropoff_longitude</th>\n",
       "      <th>dropoff_latitude</th>\n",
       "      <th>passenger_count</th>\n",
       "    </tr>\n",
       "  </thead>\n",
       "  <tbody>\n",
       "  </tbody>\n",
       "</table>\n",
       "</div>"
      ],
      "text/plain": [
       "Empty DataFrame\n",
       "Columns: [fare_amount, pickup_datetime, pickup_longitude, pickup_latitude, dropoff_longitude, dropoff_latitude, passenger_count]\n",
       "Index: []"
      ]
     },
     "execution_count": 1669,
     "metadata": {},
     "output_type": "execute_result"
    }
   ],
   "source": [
    "train_df[train_df['dropoff_longitude']< -180]"
   ]
  },
  {
   "cell_type": "code",
   "execution_count": 1670,
   "metadata": {},
   "outputs": [
    {
     "data": {
      "text/html": [
       "<div>\n",
       "<style scoped>\n",
       "    .dataframe tbody tr th:only-of-type {\n",
       "        vertical-align: middle;\n",
       "    }\n",
       "\n",
       "    .dataframe tbody tr th {\n",
       "        vertical-align: top;\n",
       "    }\n",
       "\n",
       "    .dataframe thead th {\n",
       "        text-align: right;\n",
       "    }\n",
       "</style>\n",
       "<table border=\"1\" class=\"dataframe\">\n",
       "  <thead>\n",
       "    <tr style=\"text-align: right;\">\n",
       "      <th></th>\n",
       "      <th>fare_amount</th>\n",
       "      <th>pickup_datetime</th>\n",
       "      <th>pickup_longitude</th>\n",
       "      <th>pickup_latitude</th>\n",
       "      <th>dropoff_longitude</th>\n",
       "      <th>dropoff_latitude</th>\n",
       "      <th>passenger_count</th>\n",
       "    </tr>\n",
       "  </thead>\n",
       "  <tbody>\n",
       "  </tbody>\n",
       "</table>\n",
       "</div>"
      ],
      "text/plain": [
       "Empty DataFrame\n",
       "Columns: [fare_amount, pickup_datetime, pickup_longitude, pickup_latitude, dropoff_longitude, dropoff_latitude, passenger_count]\n",
       "Index: []"
      ]
     },
     "execution_count": 1670,
     "metadata": {},
     "output_type": "execute_result"
    }
   ],
   "source": [
    "train_df[train_df['dropoff_longitude']>180]\n",
    "#no outliers to be deleted"
   ]
  },
  {
   "cell_type": "code",
   "execution_count": 1671,
   "metadata": {},
   "outputs": [],
   "source": [
    "import datetime as dt\n",
    "def convert_to_datetime(df):\n",
    "    test_time = df['pickup_datetime'].astype(str).str[:-4]\n",
    "    df['pickup_date_time'] =  pd.to_datetime(test_time, format='%Y%m%d %H:%M:%S')\n",
    "    return df \n"
   ]
  },
  {
   "cell_type": "code",
   "execution_count": 1672,
   "metadata": {},
   "outputs": [],
   "source": [
    "# Apply to both train and test data   \n",
    "train_df = convert_to_datetime(train_df)\n",
    "test_df = convert_to_datetime(test_df)\n"
   ]
  },
  {
   "cell_type": "code",
   "execution_count": 1673,
   "metadata": {},
   "outputs": [
    {
     "data": {
      "text/plain": [
       "fare_amount                 float64\n",
       "pickup_datetime              object\n",
       "pickup_longitude            float64\n",
       "pickup_latitude             float64\n",
       "dropoff_longitude           float64\n",
       "dropoff_latitude            float64\n",
       "passenger_count             float64\n",
       "pickup_date_time     datetime64[ns]\n",
       "dtype: object"
      ]
     },
     "execution_count": 1673,
     "metadata": {},
     "output_type": "execute_result"
    }
   ],
   "source": [
    "train_df.dtypes"
   ]
  },
  {
   "cell_type": "code",
   "execution_count": 1674,
   "metadata": {},
   "outputs": [
    {
     "data": {
      "text/plain": [
       "pickup_datetime              object\n",
       "pickup_longitude            float64\n",
       "pickup_latitude             float64\n",
       "dropoff_longitude           float64\n",
       "dropoff_latitude            float64\n",
       "passenger_count               int64\n",
       "pickup_date_time     datetime64[ns]\n",
       "dtype: object"
      ]
     },
     "execution_count": 1674,
     "metadata": {},
     "output_type": "execute_result"
    }
   ],
   "source": [
    "test_df.dtypes"
   ]
  },
  {
   "cell_type": "code",
   "execution_count": 1675,
   "metadata": {},
   "outputs": [
    {
     "data": {
      "text/plain": [
       "(16066, 8)"
      ]
     },
     "execution_count": 1675,
     "metadata": {},
     "output_type": "execute_result"
    }
   ],
   "source": [
    "train_df.shape"
   ]
  },
  {
   "cell_type": "code",
   "execution_count": 1676,
   "metadata": {},
   "outputs": [
    {
     "data": {
      "text/html": [
       "<div>\n",
       "<style scoped>\n",
       "    .dataframe tbody tr th:only-of-type {\n",
       "        vertical-align: middle;\n",
       "    }\n",
       "\n",
       "    .dataframe tbody tr th {\n",
       "        vertical-align: top;\n",
       "    }\n",
       "\n",
       "    .dataframe thead th {\n",
       "        text-align: right;\n",
       "    }\n",
       "</style>\n",
       "<table border=\"1\" class=\"dataframe\">\n",
       "  <thead>\n",
       "    <tr style=\"text-align: right;\">\n",
       "      <th></th>\n",
       "      <th>fare_amount</th>\n",
       "      <th>pickup_datetime</th>\n",
       "      <th>pickup_longitude</th>\n",
       "      <th>pickup_latitude</th>\n",
       "      <th>dropoff_longitude</th>\n",
       "      <th>dropoff_latitude</th>\n",
       "      <th>passenger_count</th>\n",
       "      <th>pickup_date_time</th>\n",
       "    </tr>\n",
       "  </thead>\n",
       "  <tbody>\n",
       "    <tr>\n",
       "      <th>0</th>\n",
       "      <td>4.5</td>\n",
       "      <td>2009-06-15 17:26:21 UTC</td>\n",
       "      <td>-73.844311</td>\n",
       "      <td>40.721319</td>\n",
       "      <td>-73.841610</td>\n",
       "      <td>40.712278</td>\n",
       "      <td>1.0</td>\n",
       "      <td>2009-06-15 17:26:21</td>\n",
       "    </tr>\n",
       "    <tr>\n",
       "      <th>1</th>\n",
       "      <td>16.9</td>\n",
       "      <td>2010-01-05 16:52:16 UTC</td>\n",
       "      <td>-74.016048</td>\n",
       "      <td>40.711303</td>\n",
       "      <td>-73.979268</td>\n",
       "      <td>40.782004</td>\n",
       "      <td>1.0</td>\n",
       "      <td>2010-01-05 16:52:16</td>\n",
       "    </tr>\n",
       "    <tr>\n",
       "      <th>2</th>\n",
       "      <td>5.7</td>\n",
       "      <td>2011-08-18 00:35:00 UTC</td>\n",
       "      <td>-73.982738</td>\n",
       "      <td>40.761270</td>\n",
       "      <td>-73.991242</td>\n",
       "      <td>40.750562</td>\n",
       "      <td>2.0</td>\n",
       "      <td>2011-08-18 00:35:00</td>\n",
       "    </tr>\n",
       "    <tr>\n",
       "      <th>3</th>\n",
       "      <td>7.7</td>\n",
       "      <td>2012-04-21 04:30:42 UTC</td>\n",
       "      <td>-73.987130</td>\n",
       "      <td>40.733143</td>\n",
       "      <td>-73.991567</td>\n",
       "      <td>40.758092</td>\n",
       "      <td>1.0</td>\n",
       "      <td>2012-04-21 04:30:42</td>\n",
       "    </tr>\n",
       "    <tr>\n",
       "      <th>4</th>\n",
       "      <td>5.3</td>\n",
       "      <td>2010-03-09 07:51:00 UTC</td>\n",
       "      <td>-73.968095</td>\n",
       "      <td>40.768008</td>\n",
       "      <td>-73.956655</td>\n",
       "      <td>40.783762</td>\n",
       "      <td>1.0</td>\n",
       "      <td>2010-03-09 07:51:00</td>\n",
       "    </tr>\n",
       "  </tbody>\n",
       "</table>\n",
       "</div>"
      ],
      "text/plain": [
       "   fare_amount          pickup_datetime  pickup_longitude  pickup_latitude  \\\n",
       "0          4.5  2009-06-15 17:26:21 UTC        -73.844311        40.721319   \n",
       "1         16.9  2010-01-05 16:52:16 UTC        -74.016048        40.711303   \n",
       "2          5.7  2011-08-18 00:35:00 UTC        -73.982738        40.761270   \n",
       "3          7.7  2012-04-21 04:30:42 UTC        -73.987130        40.733143   \n",
       "4          5.3  2010-03-09 07:51:00 UTC        -73.968095        40.768008   \n",
       "\n",
       "   dropoff_longitude  dropoff_latitude  passenger_count    pickup_date_time  \n",
       "0         -73.841610         40.712278              1.0 2009-06-15 17:26:21  \n",
       "1         -73.979268         40.782004              1.0 2010-01-05 16:52:16  \n",
       "2         -73.991242         40.750562              2.0 2011-08-18 00:35:00  \n",
       "3         -73.991567         40.758092              1.0 2012-04-21 04:30:42  \n",
       "4         -73.956655         40.783762              1.0 2010-03-09 07:51:00  "
      ]
     },
     "execution_count": 1676,
     "metadata": {},
     "output_type": "execute_result"
    }
   ],
   "source": [
    "train_df.head(5)"
   ]
  },
  {
   "cell_type": "code",
   "execution_count": 1677,
   "metadata": {},
   "outputs": [
    {
     "data": {
      "text/html": [
       "<div>\n",
       "<style scoped>\n",
       "    .dataframe tbody tr th:only-of-type {\n",
       "        vertical-align: middle;\n",
       "    }\n",
       "\n",
       "    .dataframe tbody tr th {\n",
       "        vertical-align: top;\n",
       "    }\n",
       "\n",
       "    .dataframe thead th {\n",
       "        text-align: right;\n",
       "    }\n",
       "</style>\n",
       "<table border=\"1\" class=\"dataframe\">\n",
       "  <thead>\n",
       "    <tr style=\"text-align: right;\">\n",
       "      <th></th>\n",
       "      <th>pickup_datetime</th>\n",
       "      <th>pickup_longitude</th>\n",
       "      <th>pickup_latitude</th>\n",
       "      <th>dropoff_longitude</th>\n",
       "      <th>dropoff_latitude</th>\n",
       "      <th>passenger_count</th>\n",
       "      <th>pickup_date_time</th>\n",
       "    </tr>\n",
       "  </thead>\n",
       "  <tbody>\n",
       "    <tr>\n",
       "      <th>0</th>\n",
       "      <td>2015-01-27 13:08:24 UTC</td>\n",
       "      <td>-73.973320</td>\n",
       "      <td>40.763805</td>\n",
       "      <td>-73.981430</td>\n",
       "      <td>40.743835</td>\n",
       "      <td>1</td>\n",
       "      <td>2015-01-27 13:08:24</td>\n",
       "    </tr>\n",
       "    <tr>\n",
       "      <th>1</th>\n",
       "      <td>2015-01-27 13:08:24 UTC</td>\n",
       "      <td>-73.986862</td>\n",
       "      <td>40.719383</td>\n",
       "      <td>-73.998886</td>\n",
       "      <td>40.739201</td>\n",
       "      <td>1</td>\n",
       "      <td>2015-01-27 13:08:24</td>\n",
       "    </tr>\n",
       "    <tr>\n",
       "      <th>2</th>\n",
       "      <td>2011-10-08 11:53:44 UTC</td>\n",
       "      <td>-73.982524</td>\n",
       "      <td>40.751260</td>\n",
       "      <td>-73.979654</td>\n",
       "      <td>40.746139</td>\n",
       "      <td>1</td>\n",
       "      <td>2011-10-08 11:53:44</td>\n",
       "    </tr>\n",
       "    <tr>\n",
       "      <th>3</th>\n",
       "      <td>2012-12-01 21:12:12 UTC</td>\n",
       "      <td>-73.981160</td>\n",
       "      <td>40.767807</td>\n",
       "      <td>-73.990448</td>\n",
       "      <td>40.751635</td>\n",
       "      <td>1</td>\n",
       "      <td>2012-12-01 21:12:12</td>\n",
       "    </tr>\n",
       "    <tr>\n",
       "      <th>4</th>\n",
       "      <td>2012-12-01 21:12:12 UTC</td>\n",
       "      <td>-73.966046</td>\n",
       "      <td>40.789775</td>\n",
       "      <td>-73.988565</td>\n",
       "      <td>40.744427</td>\n",
       "      <td>1</td>\n",
       "      <td>2012-12-01 21:12:12</td>\n",
       "    </tr>\n",
       "  </tbody>\n",
       "</table>\n",
       "</div>"
      ],
      "text/plain": [
       "           pickup_datetime  pickup_longitude  pickup_latitude  \\\n",
       "0  2015-01-27 13:08:24 UTC        -73.973320        40.763805   \n",
       "1  2015-01-27 13:08:24 UTC        -73.986862        40.719383   \n",
       "2  2011-10-08 11:53:44 UTC        -73.982524        40.751260   \n",
       "3  2012-12-01 21:12:12 UTC        -73.981160        40.767807   \n",
       "4  2012-12-01 21:12:12 UTC        -73.966046        40.789775   \n",
       "\n",
       "   dropoff_longitude  dropoff_latitude  passenger_count    pickup_date_time  \n",
       "0         -73.981430         40.743835                1 2015-01-27 13:08:24  \n",
       "1         -73.998886         40.739201                1 2015-01-27 13:08:24  \n",
       "2         -73.979654         40.746139                1 2011-10-08 11:53:44  \n",
       "3         -73.990448         40.751635                1 2012-12-01 21:12:12  \n",
       "4         -73.988565         40.744427                1 2012-12-01 21:12:12  "
      ]
     },
     "execution_count": 1677,
     "metadata": {},
     "output_type": "execute_result"
    }
   ],
   "source": [
    "test_df.head(5)"
   ]
  },
  {
   "cell_type": "code",
   "execution_count": 1678,
   "metadata": {},
   "outputs": [],
   "source": [
    "train_df=train_df.drop('pickup_datetime', axis=1)\n",
    "test_df=test_df.drop('pickup_datetime' , axis=1)"
   ]
  },
  {
   "cell_type": "code",
   "execution_count": 1679,
   "metadata": {},
   "outputs": [
    {
     "data": {
      "text/html": [
       "<div>\n",
       "<style scoped>\n",
       "    .dataframe tbody tr th:only-of-type {\n",
       "        vertical-align: middle;\n",
       "    }\n",
       "\n",
       "    .dataframe tbody tr th {\n",
       "        vertical-align: top;\n",
       "    }\n",
       "\n",
       "    .dataframe thead th {\n",
       "        text-align: right;\n",
       "    }\n",
       "</style>\n",
       "<table border=\"1\" class=\"dataframe\">\n",
       "  <thead>\n",
       "    <tr style=\"text-align: right;\">\n",
       "      <th></th>\n",
       "      <th>fare_amount</th>\n",
       "      <th>pickup_longitude</th>\n",
       "      <th>pickup_latitude</th>\n",
       "      <th>dropoff_longitude</th>\n",
       "      <th>dropoff_latitude</th>\n",
       "      <th>passenger_count</th>\n",
       "      <th>pickup_date_time</th>\n",
       "    </tr>\n",
       "  </thead>\n",
       "  <tbody>\n",
       "    <tr>\n",
       "      <th>0</th>\n",
       "      <td>4.5</td>\n",
       "      <td>-73.844311</td>\n",
       "      <td>40.721319</td>\n",
       "      <td>-73.841610</td>\n",
       "      <td>40.712278</td>\n",
       "      <td>1.0</td>\n",
       "      <td>2009-06-15 17:26:21</td>\n",
       "    </tr>\n",
       "    <tr>\n",
       "      <th>1</th>\n",
       "      <td>16.9</td>\n",
       "      <td>-74.016048</td>\n",
       "      <td>40.711303</td>\n",
       "      <td>-73.979268</td>\n",
       "      <td>40.782004</td>\n",
       "      <td>1.0</td>\n",
       "      <td>2010-01-05 16:52:16</td>\n",
       "    </tr>\n",
       "    <tr>\n",
       "      <th>2</th>\n",
       "      <td>5.7</td>\n",
       "      <td>-73.982738</td>\n",
       "      <td>40.761270</td>\n",
       "      <td>-73.991242</td>\n",
       "      <td>40.750562</td>\n",
       "      <td>2.0</td>\n",
       "      <td>2011-08-18 00:35:00</td>\n",
       "    </tr>\n",
       "    <tr>\n",
       "      <th>3</th>\n",
       "      <td>7.7</td>\n",
       "      <td>-73.987130</td>\n",
       "      <td>40.733143</td>\n",
       "      <td>-73.991567</td>\n",
       "      <td>40.758092</td>\n",
       "      <td>1.0</td>\n",
       "      <td>2012-04-21 04:30:42</td>\n",
       "    </tr>\n",
       "    <tr>\n",
       "      <th>4</th>\n",
       "      <td>5.3</td>\n",
       "      <td>-73.968095</td>\n",
       "      <td>40.768008</td>\n",
       "      <td>-73.956655</td>\n",
       "      <td>40.783762</td>\n",
       "      <td>1.0</td>\n",
       "      <td>2010-03-09 07:51:00</td>\n",
       "    </tr>\n",
       "  </tbody>\n",
       "</table>\n",
       "</div>"
      ],
      "text/plain": [
       "   fare_amount  pickup_longitude  pickup_latitude  dropoff_longitude  \\\n",
       "0          4.5        -73.844311        40.721319         -73.841610   \n",
       "1         16.9        -74.016048        40.711303         -73.979268   \n",
       "2          5.7        -73.982738        40.761270         -73.991242   \n",
       "3          7.7        -73.987130        40.733143         -73.991567   \n",
       "4          5.3        -73.968095        40.768008         -73.956655   \n",
       "\n",
       "   dropoff_latitude  passenger_count    pickup_date_time  \n",
       "0         40.712278              1.0 2009-06-15 17:26:21  \n",
       "1         40.782004              1.0 2010-01-05 16:52:16  \n",
       "2         40.750562              2.0 2011-08-18 00:35:00  \n",
       "3         40.758092              1.0 2012-04-21 04:30:42  \n",
       "4         40.783762              1.0 2010-03-09 07:51:00  "
      ]
     },
     "execution_count": 1679,
     "metadata": {},
     "output_type": "execute_result"
    }
   ],
   "source": [
    "train_df.head(5)"
   ]
  },
  {
   "cell_type": "code",
   "execution_count": 1680,
   "metadata": {},
   "outputs": [
    {
     "data": {
      "text/html": [
       "<div>\n",
       "<style scoped>\n",
       "    .dataframe tbody tr th:only-of-type {\n",
       "        vertical-align: middle;\n",
       "    }\n",
       "\n",
       "    .dataframe tbody tr th {\n",
       "        vertical-align: top;\n",
       "    }\n",
       "\n",
       "    .dataframe thead th {\n",
       "        text-align: right;\n",
       "    }\n",
       "</style>\n",
       "<table border=\"1\" class=\"dataframe\">\n",
       "  <thead>\n",
       "    <tr style=\"text-align: right;\">\n",
       "      <th></th>\n",
       "      <th>pickup_longitude</th>\n",
       "      <th>pickup_latitude</th>\n",
       "      <th>dropoff_longitude</th>\n",
       "      <th>dropoff_latitude</th>\n",
       "      <th>passenger_count</th>\n",
       "      <th>pickup_date_time</th>\n",
       "    </tr>\n",
       "  </thead>\n",
       "  <tbody>\n",
       "    <tr>\n",
       "      <th>0</th>\n",
       "      <td>-73.973320</td>\n",
       "      <td>40.763805</td>\n",
       "      <td>-73.981430</td>\n",
       "      <td>40.743835</td>\n",
       "      <td>1</td>\n",
       "      <td>2015-01-27 13:08:24</td>\n",
       "    </tr>\n",
       "    <tr>\n",
       "      <th>1</th>\n",
       "      <td>-73.986862</td>\n",
       "      <td>40.719383</td>\n",
       "      <td>-73.998886</td>\n",
       "      <td>40.739201</td>\n",
       "      <td>1</td>\n",
       "      <td>2015-01-27 13:08:24</td>\n",
       "    </tr>\n",
       "    <tr>\n",
       "      <th>2</th>\n",
       "      <td>-73.982524</td>\n",
       "      <td>40.751260</td>\n",
       "      <td>-73.979654</td>\n",
       "      <td>40.746139</td>\n",
       "      <td>1</td>\n",
       "      <td>2011-10-08 11:53:44</td>\n",
       "    </tr>\n",
       "    <tr>\n",
       "      <th>3</th>\n",
       "      <td>-73.981160</td>\n",
       "      <td>40.767807</td>\n",
       "      <td>-73.990448</td>\n",
       "      <td>40.751635</td>\n",
       "      <td>1</td>\n",
       "      <td>2012-12-01 21:12:12</td>\n",
       "    </tr>\n",
       "    <tr>\n",
       "      <th>4</th>\n",
       "      <td>-73.966046</td>\n",
       "      <td>40.789775</td>\n",
       "      <td>-73.988565</td>\n",
       "      <td>40.744427</td>\n",
       "      <td>1</td>\n",
       "      <td>2012-12-01 21:12:12</td>\n",
       "    </tr>\n",
       "  </tbody>\n",
       "</table>\n",
       "</div>"
      ],
      "text/plain": [
       "   pickup_longitude  pickup_latitude  dropoff_longitude  dropoff_latitude  \\\n",
       "0        -73.973320        40.763805         -73.981430         40.743835   \n",
       "1        -73.986862        40.719383         -73.998886         40.739201   \n",
       "2        -73.982524        40.751260         -73.979654         40.746139   \n",
       "3        -73.981160        40.767807         -73.990448         40.751635   \n",
       "4        -73.966046        40.789775         -73.988565         40.744427   \n",
       "\n",
       "   passenger_count    pickup_date_time  \n",
       "0                1 2015-01-27 13:08:24  \n",
       "1                1 2015-01-27 13:08:24  \n",
       "2                1 2011-10-08 11:53:44  \n",
       "3                1 2012-12-01 21:12:12  \n",
       "4                1 2012-12-01 21:12:12  "
      ]
     },
     "execution_count": 1680,
     "metadata": {},
     "output_type": "execute_result"
    }
   ],
   "source": [
    "test_df.head(5)"
   ]
  },
  {
   "cell_type": "code",
   "execution_count": 1681,
   "metadata": {},
   "outputs": [],
   "source": [
    "coord = ['pickup_longitude','pickup_latitude','dropoff_longitude', 'dropoff_latitude', 'passenger_count']\n",
    "for i in coord :\n",
    "    train_df[i] = train_df[i].replace(0,np.nan)\n",
    "    "
   ]
  },
  {
   "cell_type": "code",
   "execution_count": 1682,
   "metadata": {},
   "outputs": [
    {
     "data": {
      "text/plain": [
       "(16066, 7)"
      ]
     },
     "execution_count": 1682,
     "metadata": {},
     "output_type": "execute_result"
    }
   ],
   "source": [
    "train_df.shape"
   ]
  },
  {
   "cell_type": "code",
   "execution_count": 1683,
   "metadata": {},
   "outputs": [
    {
     "name": "stdout",
     "output_type": "stream",
     "text": [
      "fare_amount           24\n",
      "pickup_longitude     315\n",
      "pickup_latitude      315\n",
      "dropoff_longitude    314\n",
      "dropoff_latitude     312\n",
      "passenger_count      112\n",
      "pickup_date_time       1\n",
      "dtype: int64\n"
     ]
    }
   ],
   "source": [
    "print(train_df.isnull().sum())"
   ]
  },
  {
   "cell_type": "code",
   "execution_count": 1684,
   "metadata": {},
   "outputs": [
    {
     "data": {
      "text/plain": [
       "(9914, 6)"
      ]
     },
     "execution_count": 1684,
     "metadata": {},
     "output_type": "execute_result"
    }
   ],
   "source": [
    "test_df.shape"
   ]
  },
  {
   "cell_type": "code",
   "execution_count": 1685,
   "metadata": {},
   "outputs": [],
   "source": [
    "# There are 15637 rows which have not null values and total number of row count is 16067. We just cannot delete around 500 rows. This can impact the model. Hence, we have to impute the missing values."
   ]
  },
  {
   "cell_type": "code",
   "execution_count": 1723,
   "metadata": {},
   "outputs": [
    {
     "name": "stdout",
     "output_type": "stream",
     "text": [
      "Row count after imputing missing values - 16066\n"
     ]
    }
   ],
   "source": [
    "# So we have a lot of NaN values for the Haversine\n",
    "imp = SimpleImputer(missing_values=np.nan, strategy='most_frequent')\n",
    "train_data=pd.DataFrame(imp.fit_transform(train_df), columns=train_df.columns)\n",
    "print(f'Row count after imputing missing values - {train_data.shape[0]}')"
   ]
  },
  {
   "cell_type": "code",
   "execution_count": 1687,
   "metadata": {},
   "outputs": [
    {
     "data": {
      "text/html": [
       "<div>\n",
       "<style scoped>\n",
       "    .dataframe tbody tr th:only-of-type {\n",
       "        vertical-align: middle;\n",
       "    }\n",
       "\n",
       "    .dataframe tbody tr th {\n",
       "        vertical-align: top;\n",
       "    }\n",
       "\n",
       "    .dataframe thead th {\n",
       "        text-align: right;\n",
       "    }\n",
       "</style>\n",
       "<table border=\"1\" class=\"dataframe\">\n",
       "  <thead>\n",
       "    <tr style=\"text-align: right;\">\n",
       "      <th></th>\n",
       "      <th>fare_amount</th>\n",
       "      <th>pickup_longitude</th>\n",
       "      <th>pickup_latitude</th>\n",
       "      <th>dropoff_longitude</th>\n",
       "      <th>dropoff_latitude</th>\n",
       "      <th>passenger_count</th>\n",
       "      <th>pickup_date_time</th>\n",
       "    </tr>\n",
       "  </thead>\n",
       "  <tbody>\n",
       "    <tr>\n",
       "      <th>0</th>\n",
       "      <td>4.5</td>\n",
       "      <td>-73.8443</td>\n",
       "      <td>40.7213</td>\n",
       "      <td>-73.8416</td>\n",
       "      <td>40.7123</td>\n",
       "      <td>1</td>\n",
       "      <td>2009-06-15 17:26:21</td>\n",
       "    </tr>\n",
       "    <tr>\n",
       "      <th>1</th>\n",
       "      <td>16.9</td>\n",
       "      <td>-74.016</td>\n",
       "      <td>40.7113</td>\n",
       "      <td>-73.9793</td>\n",
       "      <td>40.782</td>\n",
       "      <td>1</td>\n",
       "      <td>2010-01-05 16:52:16</td>\n",
       "    </tr>\n",
       "    <tr>\n",
       "      <th>2</th>\n",
       "      <td>5.7</td>\n",
       "      <td>-73.9827</td>\n",
       "      <td>40.7613</td>\n",
       "      <td>-73.9912</td>\n",
       "      <td>40.7506</td>\n",
       "      <td>2</td>\n",
       "      <td>2011-08-18 00:35:00</td>\n",
       "    </tr>\n",
       "    <tr>\n",
       "      <th>3</th>\n",
       "      <td>7.7</td>\n",
       "      <td>-73.9871</td>\n",
       "      <td>40.7331</td>\n",
       "      <td>-73.9916</td>\n",
       "      <td>40.7581</td>\n",
       "      <td>1</td>\n",
       "      <td>2012-04-21 04:30:42</td>\n",
       "    </tr>\n",
       "    <tr>\n",
       "      <th>4</th>\n",
       "      <td>5.3</td>\n",
       "      <td>-73.9681</td>\n",
       "      <td>40.768</td>\n",
       "      <td>-73.9567</td>\n",
       "      <td>40.7838</td>\n",
       "      <td>1</td>\n",
       "      <td>2010-03-09 07:51:00</td>\n",
       "    </tr>\n",
       "  </tbody>\n",
       "</table>\n",
       "</div>"
      ],
      "text/plain": [
       "  fare_amount pickup_longitude pickup_latitude dropoff_longitude  \\\n",
       "0         4.5         -73.8443         40.7213          -73.8416   \n",
       "1        16.9          -74.016         40.7113          -73.9793   \n",
       "2         5.7         -73.9827         40.7613          -73.9912   \n",
       "3         7.7         -73.9871         40.7331          -73.9916   \n",
       "4         5.3         -73.9681          40.768          -73.9567   \n",
       "\n",
       "  dropoff_latitude passenger_count     pickup_date_time  \n",
       "0          40.7123               1  2009-06-15 17:26:21  \n",
       "1           40.782               1  2010-01-05 16:52:16  \n",
       "2          40.7506               2  2011-08-18 00:35:00  \n",
       "3          40.7581               1  2012-04-21 04:30:42  \n",
       "4          40.7838               1  2010-03-09 07:51:00  "
      ]
     },
     "execution_count": 1687,
     "metadata": {},
     "output_type": "execute_result"
    }
   ],
   "source": [
    "train_data.head(5)"
   ]
  },
  {
   "cell_type": "code",
   "execution_count": 1688,
   "metadata": {},
   "outputs": [
    {
     "name": "stdout",
     "output_type": "stream",
     "text": [
      "fare_amount          0\n",
      "pickup_longitude     0\n",
      "pickup_latitude      0\n",
      "dropoff_longitude    0\n",
      "dropoff_latitude     0\n",
      "passenger_count      0\n",
      "pickup_date_time     0\n",
      "dtype: int64\n"
     ]
    }
   ],
   "source": [
    "print(train_data.isnull().sum())"
   ]
  },
  {
   "cell_type": "code",
   "execution_count": 1689,
   "metadata": {},
   "outputs": [],
   "source": [
    "# The latitude of New York City, USA is 40.730610, and the longitude is -73.935242 which is mostly prevalent in our dataset. Therefore we can conclude that this cab service runs in New York City, USA."
   ]
  },
  {
   "cell_type": "code",
   "execution_count": 1690,
   "metadata": {},
   "outputs": [],
   "source": [
    "# So I have set up a longitude range for the ride\n",
    "train_data = train_data.loc[train_data.pickup_longitude < -71]\n",
    "train_data = train_data.loc[train_data.pickup_longitude > -74.5]\n",
    "\n",
    "# And a latitude range for the ride\n",
    "train_data = train_data.loc[train_data.pickup_latitude < 42]\n",
    "train_data = train_data.loc[train_data.pickup_latitude > 40]"
   ]
  },
  {
   "cell_type": "code",
   "execution_count": 1691,
   "metadata": {},
   "outputs": [
    {
     "data": {
      "text/plain": [
       "(16052, 7)"
      ]
     },
     "execution_count": 1691,
     "metadata": {},
     "output_type": "execute_result"
    }
   ],
   "source": [
    "train_data.shape"
   ]
  },
  {
   "cell_type": "code",
   "execution_count": 1692,
   "metadata": {},
   "outputs": [],
   "source": [
    "train_data = train_data.loc[train_data.dropoff_longitude < -71]\n",
    "train_data = train_data.loc[train_data.dropoff_longitude > -74.5]\n",
    "\n",
    "train_data = train_data.loc[train_data.dropoff_latitude < 42]\n",
    "train_data = train_data.loc[train_data.dropoff_latitude > 40]"
   ]
  },
  {
   "cell_type": "code",
   "execution_count": 1693,
   "metadata": {},
   "outputs": [
    {
     "data": {
      "text/plain": [
       "(16048, 7)"
      ]
     },
     "execution_count": 1693,
     "metadata": {},
     "output_type": "execute_result"
    }
   ],
   "source": [
    "train_data.shape"
   ]
  },
  {
   "cell_type": "code",
   "execution_count": 1694,
   "metadata": {},
   "outputs": [],
   "source": [
    "train_data['longitude_diff'] = train_data['dropoff_longitude'] - train_data['pickup_longitude']\n",
    "\n",
    "train_data['latitude_diff'] = train_data['dropoff_latitude'] - train_data['pickup_latitude']\n"
   ]
  },
  {
   "cell_type": "code",
   "execution_count": 1695,
   "metadata": {},
   "outputs": [
    {
     "data": {
      "text/plain": [
       "(16028, 9)"
      ]
     },
     "execution_count": 1695,
     "metadata": {},
     "output_type": "execute_result"
    }
   ],
   "source": [
    "train_data = train_data.loc[train_data.passenger_count > 0]\n",
    "train_data = train_data.loc[train_data.passenger_count <= 9 ]\n",
    "train_data.shape"
   ]
  },
  {
   "cell_type": "code",
   "execution_count": 1696,
   "metadata": {},
   "outputs": [
    {
     "data": {
      "text/html": [
       "<div>\n",
       "<style scoped>\n",
       "    .dataframe tbody tr th:only-of-type {\n",
       "        vertical-align: middle;\n",
       "    }\n",
       "\n",
       "    .dataframe tbody tr th {\n",
       "        vertical-align: top;\n",
       "    }\n",
       "\n",
       "    .dataframe thead th {\n",
       "        text-align: right;\n",
       "    }\n",
       "</style>\n",
       "<table border=\"1\" class=\"dataframe\">\n",
       "  <thead>\n",
       "    <tr style=\"text-align: right;\">\n",
       "      <th></th>\n",
       "      <th>fare_amount</th>\n",
       "      <th>pickup_longitude</th>\n",
       "      <th>pickup_latitude</th>\n",
       "      <th>dropoff_longitude</th>\n",
       "      <th>dropoff_latitude</th>\n",
       "      <th>passenger_count</th>\n",
       "      <th>pickup_date_time</th>\n",
       "      <th>longitude_diff</th>\n",
       "      <th>latitude_diff</th>\n",
       "    </tr>\n",
       "  </thead>\n",
       "  <tbody>\n",
       "    <tr>\n",
       "      <th>0</th>\n",
       "      <td>4.5</td>\n",
       "      <td>-73.8443</td>\n",
       "      <td>40.7213</td>\n",
       "      <td>-73.8416</td>\n",
       "      <td>40.7123</td>\n",
       "      <td>1</td>\n",
       "      <td>2009-06-15 17:26:21</td>\n",
       "      <td>0.002701</td>\n",
       "      <td>-0.009041</td>\n",
       "    </tr>\n",
       "    <tr>\n",
       "      <th>1</th>\n",
       "      <td>16.9</td>\n",
       "      <td>-74.016</td>\n",
       "      <td>40.7113</td>\n",
       "      <td>-73.9793</td>\n",
       "      <td>40.782</td>\n",
       "      <td>1</td>\n",
       "      <td>2010-01-05 16:52:16</td>\n",
       "      <td>0.03678</td>\n",
       "      <td>0.070701</td>\n",
       "    </tr>\n",
       "    <tr>\n",
       "      <th>2</th>\n",
       "      <td>5.7</td>\n",
       "      <td>-73.9827</td>\n",
       "      <td>40.7613</td>\n",
       "      <td>-73.9912</td>\n",
       "      <td>40.7506</td>\n",
       "      <td>2</td>\n",
       "      <td>2011-08-18 00:35:00</td>\n",
       "      <td>-0.008504</td>\n",
       "      <td>-0.010708</td>\n",
       "    </tr>\n",
       "    <tr>\n",
       "      <th>3</th>\n",
       "      <td>7.7</td>\n",
       "      <td>-73.9871</td>\n",
       "      <td>40.7331</td>\n",
       "      <td>-73.9916</td>\n",
       "      <td>40.7581</td>\n",
       "      <td>1</td>\n",
       "      <td>2012-04-21 04:30:42</td>\n",
       "      <td>-0.004437</td>\n",
       "      <td>0.024949</td>\n",
       "    </tr>\n",
       "    <tr>\n",
       "      <th>4</th>\n",
       "      <td>5.3</td>\n",
       "      <td>-73.9681</td>\n",
       "      <td>40.768</td>\n",
       "      <td>-73.9567</td>\n",
       "      <td>40.7838</td>\n",
       "      <td>1</td>\n",
       "      <td>2010-03-09 07:51:00</td>\n",
       "      <td>0.01144</td>\n",
       "      <td>0.015754</td>\n",
       "    </tr>\n",
       "  </tbody>\n",
       "</table>\n",
       "</div>"
      ],
      "text/plain": [
       "  fare_amount pickup_longitude pickup_latitude dropoff_longitude  \\\n",
       "0         4.5         -73.8443         40.7213          -73.8416   \n",
       "1        16.9          -74.016         40.7113          -73.9793   \n",
       "2         5.7         -73.9827         40.7613          -73.9912   \n",
       "3         7.7         -73.9871         40.7331          -73.9916   \n",
       "4         5.3         -73.9681          40.768          -73.9567   \n",
       "\n",
       "  dropoff_latitude passenger_count     pickup_date_time longitude_diff  \\\n",
       "0          40.7123               1  2009-06-15 17:26:21       0.002701   \n",
       "1           40.782               1  2010-01-05 16:52:16        0.03678   \n",
       "2          40.7506               2  2011-08-18 00:35:00      -0.008504   \n",
       "3          40.7581               1  2012-04-21 04:30:42      -0.004437   \n",
       "4          40.7838               1  2010-03-09 07:51:00        0.01144   \n",
       "\n",
       "  latitude_diff  \n",
       "0     -0.009041  \n",
       "1      0.070701  \n",
       "2     -0.010708  \n",
       "3      0.024949  \n",
       "4      0.015754  "
      ]
     },
     "execution_count": 1696,
     "metadata": {},
     "output_type": "execute_result"
    }
   ],
   "source": [
    "train_data.head(5)"
   ]
  },
  {
   "cell_type": "code",
   "execution_count": 1697,
   "metadata": {},
   "outputs": [
    {
     "data": {
      "text/plain": [
       "fare_amount          object\n",
       "pickup_longitude     object\n",
       "pickup_latitude      object\n",
       "dropoff_longitude    object\n",
       "dropoff_latitude     object\n",
       "passenger_count      object\n",
       "pickup_date_time     object\n",
       "longitude_diff       object\n",
       "latitude_diff        object\n",
       "dtype: object"
      ]
     },
     "execution_count": 1697,
     "metadata": {},
     "output_type": "execute_result"
    }
   ],
   "source": [
    "train_data.dtypes"
   ]
  },
  {
   "cell_type": "code",
   "execution_count": 1698,
   "metadata": {},
   "outputs": [],
   "source": [
    "train_data[\"fare_amount\"] = pd.to_numeric(train_data[\"fare_amount\"])\n",
    "train_data[\"pickup_latitude\"] = pd.to_numeric(train_data[\"pickup_latitude\"])\n",
    "train_data[\"pickup_longitude\"] = pd.to_numeric(train_data[\"pickup_longitude\"])\n",
    "train_data[\"dropoff_latitude\"] = pd.to_numeric(train_data[\"dropoff_latitude\"])\n",
    "train_data[\"dropoff_longitude\"] = pd.to_numeric(train_data[\"dropoff_longitude\"])\n",
    "train_data[\"pickup_date_time\"] = pd.to_datetime(train_data[\"pickup_date_time\"])\n",
    "train_data[\"longitude_diff\"] = pd.to_numeric(train_data[\"longitude_diff\"])\n",
    "train_data[\"latitude_diff\"] = pd.to_numeric(train_data[\"latitude_diff\"])\n",
    "train_data[\"passenger_count\"] = pd.to_numeric(train_data[\"passenger_count\"])"
   ]
  },
  {
   "cell_type": "code",
   "execution_count": 1699,
   "metadata": {},
   "outputs": [
    {
     "data": {
      "text/plain": [
       "fare_amount                 float64\n",
       "pickup_longitude            float64\n",
       "pickup_latitude             float64\n",
       "dropoff_longitude           float64\n",
       "dropoff_latitude            float64\n",
       "passenger_count             float64\n",
       "pickup_date_time     datetime64[ns]\n",
       "longitude_diff              float64\n",
       "latitude_diff               float64\n",
       "dtype: object"
      ]
     },
     "execution_count": 1699,
     "metadata": {},
     "output_type": "execute_result"
    }
   ],
   "source": [
    "train_data.dtypes"
   ]
  },
  {
   "cell_type": "code",
   "execution_count": 1700,
   "metadata": {},
   "outputs": [],
   "source": [
    "test_df['longitude_diff'] = test_df['dropoff_longitude'] - test_df['pickup_longitude']\n",
    "test_df['latitude_diff'] = test_df['dropoff_latitude'] - test_df['pickup_latitude']\n"
   ]
  },
  {
   "cell_type": "code",
   "execution_count": 1701,
   "metadata": {},
   "outputs": [
    {
     "data": {
      "text/plain": [
       "(15987, 9)"
      ]
     },
     "execution_count": 1701,
     "metadata": {},
     "output_type": "execute_result"
    }
   ],
   "source": [
    "train_data = train_data.loc[(train_data['fare_amount'] > 0) & (train_data['fare_amount'] < 60)]\n",
    "train_data.shape"
   ]
  },
  {
   "cell_type": "code",
   "execution_count": 1702,
   "metadata": {},
   "outputs": [
    {
     "data": {
      "text/html": [
       "<div>\n",
       "<style scoped>\n",
       "    .dataframe tbody tr th:only-of-type {\n",
       "        vertical-align: middle;\n",
       "    }\n",
       "\n",
       "    .dataframe tbody tr th {\n",
       "        vertical-align: top;\n",
       "    }\n",
       "\n",
       "    .dataframe thead th {\n",
       "        text-align: right;\n",
       "    }\n",
       "</style>\n",
       "<table border=\"1\" class=\"dataframe\">\n",
       "  <thead>\n",
       "    <tr style=\"text-align: right;\">\n",
       "      <th></th>\n",
       "      <th>fare_amount</th>\n",
       "      <th>pickup_longitude</th>\n",
       "      <th>pickup_latitude</th>\n",
       "      <th>dropoff_longitude</th>\n",
       "      <th>dropoff_latitude</th>\n",
       "      <th>passenger_count</th>\n",
       "      <th>pickup_date_time</th>\n",
       "      <th>longitude_diff</th>\n",
       "      <th>latitude_diff</th>\n",
       "    </tr>\n",
       "  </thead>\n",
       "  <tbody>\n",
       "    <tr>\n",
       "      <th>0</th>\n",
       "      <td>4.5</td>\n",
       "      <td>-73.844311</td>\n",
       "      <td>40.721319</td>\n",
       "      <td>-73.841610</td>\n",
       "      <td>40.712278</td>\n",
       "      <td>1.0</td>\n",
       "      <td>2009-06-15 17:26:21</td>\n",
       "      <td>0.002701</td>\n",
       "      <td>-0.009041</td>\n",
       "    </tr>\n",
       "    <tr>\n",
       "      <th>1</th>\n",
       "      <td>16.9</td>\n",
       "      <td>-74.016048</td>\n",
       "      <td>40.711303</td>\n",
       "      <td>-73.979268</td>\n",
       "      <td>40.782004</td>\n",
       "      <td>1.0</td>\n",
       "      <td>2010-01-05 16:52:16</td>\n",
       "      <td>0.036780</td>\n",
       "      <td>0.070701</td>\n",
       "    </tr>\n",
       "    <tr>\n",
       "      <th>2</th>\n",
       "      <td>5.7</td>\n",
       "      <td>-73.982738</td>\n",
       "      <td>40.761270</td>\n",
       "      <td>-73.991242</td>\n",
       "      <td>40.750562</td>\n",
       "      <td>2.0</td>\n",
       "      <td>2011-08-18 00:35:00</td>\n",
       "      <td>-0.008504</td>\n",
       "      <td>-0.010708</td>\n",
       "    </tr>\n",
       "    <tr>\n",
       "      <th>3</th>\n",
       "      <td>7.7</td>\n",
       "      <td>-73.987130</td>\n",
       "      <td>40.733143</td>\n",
       "      <td>-73.991567</td>\n",
       "      <td>40.758092</td>\n",
       "      <td>1.0</td>\n",
       "      <td>2012-04-21 04:30:42</td>\n",
       "      <td>-0.004437</td>\n",
       "      <td>0.024949</td>\n",
       "    </tr>\n",
       "    <tr>\n",
       "      <th>4</th>\n",
       "      <td>5.3</td>\n",
       "      <td>-73.968095</td>\n",
       "      <td>40.768008</td>\n",
       "      <td>-73.956655</td>\n",
       "      <td>40.783762</td>\n",
       "      <td>1.0</td>\n",
       "      <td>2010-03-09 07:51:00</td>\n",
       "      <td>0.011440</td>\n",
       "      <td>0.015754</td>\n",
       "    </tr>\n",
       "  </tbody>\n",
       "</table>\n",
       "</div>"
      ],
      "text/plain": [
       "   fare_amount  pickup_longitude  pickup_latitude  dropoff_longitude  \\\n",
       "0          4.5        -73.844311        40.721319         -73.841610   \n",
       "1         16.9        -74.016048        40.711303         -73.979268   \n",
       "2          5.7        -73.982738        40.761270         -73.991242   \n",
       "3          7.7        -73.987130        40.733143         -73.991567   \n",
       "4          5.3        -73.968095        40.768008         -73.956655   \n",
       "\n",
       "   dropoff_latitude  passenger_count    pickup_date_time  longitude_diff  \\\n",
       "0         40.712278              1.0 2009-06-15 17:26:21        0.002701   \n",
       "1         40.782004              1.0 2010-01-05 16:52:16        0.036780   \n",
       "2         40.750562              2.0 2011-08-18 00:35:00       -0.008504   \n",
       "3         40.758092              1.0 2012-04-21 04:30:42       -0.004437   \n",
       "4         40.783762              1.0 2010-03-09 07:51:00        0.011440   \n",
       "\n",
       "   latitude_diff  \n",
       "0      -0.009041  \n",
       "1       0.070701  \n",
       "2      -0.010708  \n",
       "3       0.024949  \n",
       "4       0.015754  "
      ]
     },
     "execution_count": 1702,
     "metadata": {},
     "output_type": "execute_result"
    }
   ],
   "source": [
    "train_data.head()"
   ]
  },
  {
   "cell_type": "code",
   "execution_count": 1703,
   "metadata": {},
   "outputs": [],
   "source": [
    "def haversine_distance(lat1, long1, lat2, long2):\n",
    "    data = [train_data, test_df]\n",
    "    for i in data:\n",
    "        R = 6371  #radius of earth in kilometers\n",
    "        #R = 3959 #radius of earth in miles\n",
    "        phi1 = np.radians(i[lat1])\n",
    "        phi2 = np.radians(i[lat2])\n",
    "    \n",
    "        delta_phi = np.radians(i[lat2]-i[lat1])\n",
    "        delta_lambda = np.radians(i[long2]-i[long1])\n",
    "    \n",
    "        #a = sin²((φB - φA)/2) + cos φA . cos φB . sin²((λB - λA)/2)\n",
    "        a = np.sin(delta_phi / 2.0) ** 2 + np.cos(phi1) * np.cos(phi2) * np.sin(delta_lambda / 2.0) ** 2\n",
    "    \n",
    "        #c = 2 * atan2( √a, √(1−a) )\n",
    "        c = 2 * np.arctan2(np.sqrt(a), np.sqrt(1-a))\n",
    "    \n",
    "        #d = R*c\n",
    "        d = (R * c) #in kilometers\n",
    "        i['H_Distance'] = d\n",
    "    return d"
   ]
  },
  {
   "cell_type": "code",
   "execution_count": 1704,
   "metadata": {},
   "outputs": [
    {
     "data": {
      "text/plain": [
       "0        2.323259\n",
       "1        2.425353\n",
       "2        0.618628\n",
       "3        1.961033\n",
       "4        5.387301\n",
       "5        3.222549\n",
       "6        0.929601\n",
       "7       21.540102\n",
       "8        3.873962\n",
       "9        1.099794\n",
       "10       2.317685\n",
       "11       4.819179\n",
       "12       0.722670\n",
       "13       1.675503\n",
       "14       2.504032\n",
       "15       5.115375\n",
       "16       0.298838\n",
       "17       2.531147\n",
       "18       0.780444\n",
       "19       0.427282\n",
       "20       1.651946\n",
       "21       1.969211\n",
       "22       1.305441\n",
       "23       1.901295\n",
       "24       5.779720\n",
       "25       1.121687\n",
       "26      14.306540\n",
       "27       9.427870\n",
       "28       1.144529\n",
       "29       4.696371\n",
       "          ...    \n",
       "9884    15.119293\n",
       "9885     5.006239\n",
       "9886     7.376754\n",
       "9887     1.680721\n",
       "9888     0.000000\n",
       "9889     2.377723\n",
       "9890     2.944581\n",
       "9891     5.952839\n",
       "9892     2.950361\n",
       "9893     4.735375\n",
       "9894     3.101361\n",
       "9895     9.000325\n",
       "9896     2.398161\n",
       "9897     5.081664\n",
       "9898     0.555287\n",
       "9899     5.610505\n",
       "9900     1.890608\n",
       "9901     1.530118\n",
       "9902     3.891526\n",
       "9903     2.299316\n",
       "9904    15.091262\n",
       "9905     9.613798\n",
       "9906     0.369506\n",
       "9907     9.923998\n",
       "9908     1.636402\n",
       "9909     2.124874\n",
       "9910     3.270969\n",
       "9911    19.183942\n",
       "9912     8.343486\n",
       "9913     1.180825\n",
       "Length: 9914, dtype: float64"
      ]
     },
     "execution_count": 1704,
     "metadata": {},
     "output_type": "execute_result"
    }
   ],
   "source": [
    "haversine_distance('pickup_latitude', 'pickup_longitude', 'dropoff_latitude', 'dropoff_longitude')"
   ]
  },
  {
   "cell_type": "code",
   "execution_count": 1705,
   "metadata": {},
   "outputs": [
    {
     "data": {
      "text/plain": [
       "0    1.030764\n",
       "1    8.450134\n",
       "2    1.389525\n",
       "3    2.799270\n",
       "4    1.999157\n",
       "5    3.787239\n",
       "6    1.555807\n",
       "7    4.155444\n",
       "8    1.253232\n",
       "9    2.849627\n",
       "Name: H_Distance, dtype: float64"
      ]
     },
     "execution_count": 1705,
     "metadata": {},
     "output_type": "execute_result"
    }
   ],
   "source": [
    "train_data['H_Distance'].head(10)"
   ]
  },
  {
   "cell_type": "code",
   "execution_count": 1706,
   "metadata": {},
   "outputs": [
    {
     "data": {
      "text/plain": [
       "0     2.323259\n",
       "1     2.425353\n",
       "2     0.618628\n",
       "3     1.961033\n",
       "4     5.387301\n",
       "5     3.222549\n",
       "6     0.929601\n",
       "7    21.540102\n",
       "8     3.873962\n",
       "9     1.099794\n",
       "Name: H_Distance, dtype: float64"
      ]
     },
     "execution_count": 1706,
     "metadata": {},
     "output_type": "execute_result"
    }
   ],
   "source": [
    "test_df['H_Distance'].head(10)"
   ]
  },
  {
   "cell_type": "code",
   "execution_count": 1707,
   "metadata": {},
   "outputs": [],
   "source": [
    "x_traindf = train_data.drop('pickup_date_time', axis=1)"
   ]
  },
  {
   "cell_type": "code",
   "execution_count": 1708,
   "metadata": {
    "scrolled": false
   },
   "outputs": [
    {
     "data": {
      "text/html": [
       "<div>\n",
       "<style scoped>\n",
       "    .dataframe tbody tr th:only-of-type {\n",
       "        vertical-align: middle;\n",
       "    }\n",
       "\n",
       "    .dataframe tbody tr th {\n",
       "        vertical-align: top;\n",
       "    }\n",
       "\n",
       "    .dataframe thead th {\n",
       "        text-align: right;\n",
       "    }\n",
       "</style>\n",
       "<table border=\"1\" class=\"dataframe\">\n",
       "  <thead>\n",
       "    <tr style=\"text-align: right;\">\n",
       "      <th></th>\n",
       "      <th>fare_amount</th>\n",
       "      <th>pickup_longitude</th>\n",
       "      <th>pickup_latitude</th>\n",
       "      <th>dropoff_longitude</th>\n",
       "      <th>dropoff_latitude</th>\n",
       "      <th>passenger_count</th>\n",
       "      <th>longitude_diff</th>\n",
       "      <th>latitude_diff</th>\n",
       "      <th>H_Distance</th>\n",
       "    </tr>\n",
       "  </thead>\n",
       "  <tbody>\n",
       "    <tr>\n",
       "      <th>0</th>\n",
       "      <td>4.5</td>\n",
       "      <td>-73.844311</td>\n",
       "      <td>40.721319</td>\n",
       "      <td>-73.841610</td>\n",
       "      <td>40.712278</td>\n",
       "      <td>1.0</td>\n",
       "      <td>0.002701</td>\n",
       "      <td>-0.009041</td>\n",
       "      <td>1.030764</td>\n",
       "    </tr>\n",
       "    <tr>\n",
       "      <th>1</th>\n",
       "      <td>16.9</td>\n",
       "      <td>-74.016048</td>\n",
       "      <td>40.711303</td>\n",
       "      <td>-73.979268</td>\n",
       "      <td>40.782004</td>\n",
       "      <td>1.0</td>\n",
       "      <td>0.036780</td>\n",
       "      <td>0.070701</td>\n",
       "      <td>8.450134</td>\n",
       "    </tr>\n",
       "    <tr>\n",
       "      <th>2</th>\n",
       "      <td>5.7</td>\n",
       "      <td>-73.982738</td>\n",
       "      <td>40.761270</td>\n",
       "      <td>-73.991242</td>\n",
       "      <td>40.750562</td>\n",
       "      <td>2.0</td>\n",
       "      <td>-0.008504</td>\n",
       "      <td>-0.010708</td>\n",
       "      <td>1.389525</td>\n",
       "    </tr>\n",
       "    <tr>\n",
       "      <th>3</th>\n",
       "      <td>7.7</td>\n",
       "      <td>-73.987130</td>\n",
       "      <td>40.733143</td>\n",
       "      <td>-73.991567</td>\n",
       "      <td>40.758092</td>\n",
       "      <td>1.0</td>\n",
       "      <td>-0.004437</td>\n",
       "      <td>0.024949</td>\n",
       "      <td>2.799270</td>\n",
       "    </tr>\n",
       "    <tr>\n",
       "      <th>4</th>\n",
       "      <td>5.3</td>\n",
       "      <td>-73.968095</td>\n",
       "      <td>40.768008</td>\n",
       "      <td>-73.956655</td>\n",
       "      <td>40.783762</td>\n",
       "      <td>1.0</td>\n",
       "      <td>0.011440</td>\n",
       "      <td>0.015754</td>\n",
       "      <td>1.999157</td>\n",
       "    </tr>\n",
       "  </tbody>\n",
       "</table>\n",
       "</div>"
      ],
      "text/plain": [
       "   fare_amount  pickup_longitude  pickup_latitude  dropoff_longitude  \\\n",
       "0          4.5        -73.844311        40.721319         -73.841610   \n",
       "1         16.9        -74.016048        40.711303         -73.979268   \n",
       "2          5.7        -73.982738        40.761270         -73.991242   \n",
       "3          7.7        -73.987130        40.733143         -73.991567   \n",
       "4          5.3        -73.968095        40.768008         -73.956655   \n",
       "\n",
       "   dropoff_latitude  passenger_count  longitude_diff  latitude_diff  \\\n",
       "0         40.712278              1.0        0.002701      -0.009041   \n",
       "1         40.782004              1.0        0.036780       0.070701   \n",
       "2         40.750562              2.0       -0.008504      -0.010708   \n",
       "3         40.758092              1.0       -0.004437       0.024949   \n",
       "4         40.783762              1.0        0.011440       0.015754   \n",
       "\n",
       "   H_Distance  \n",
       "0    1.030764  \n",
       "1    8.450134  \n",
       "2    1.389525  \n",
       "3    2.799270  \n",
       "4    1.999157  "
      ]
     },
     "execution_count": 1708,
     "metadata": {},
     "output_type": "execute_result"
    }
   ],
   "source": [
    "x_traindf.head()"
   ]
  },
  {
   "cell_type": "code",
   "execution_count": 1709,
   "metadata": {},
   "outputs": [
    {
     "data": {
      "text/plain": [
       "(15987, 10)"
      ]
     },
     "execution_count": 1709,
     "metadata": {},
     "output_type": "execute_result"
    }
   ],
   "source": [
    "train_data.shape"
   ]
  },
  {
   "cell_type": "code",
   "execution_count": 1710,
   "metadata": {},
   "outputs": [],
   "source": [
    "x_train = x_traindf.drop('fare_amount', axis=1)"
   ]
  },
  {
   "cell_type": "code",
   "execution_count": 1711,
   "metadata": {},
   "outputs": [
    {
     "data": {
      "text/html": [
       "<div>\n",
       "<style scoped>\n",
       "    .dataframe tbody tr th:only-of-type {\n",
       "        vertical-align: middle;\n",
       "    }\n",
       "\n",
       "    .dataframe tbody tr th {\n",
       "        vertical-align: top;\n",
       "    }\n",
       "\n",
       "    .dataframe thead th {\n",
       "        text-align: right;\n",
       "    }\n",
       "</style>\n",
       "<table border=\"1\" class=\"dataframe\">\n",
       "  <thead>\n",
       "    <tr style=\"text-align: right;\">\n",
       "      <th></th>\n",
       "      <th>pickup_longitude</th>\n",
       "      <th>pickup_latitude</th>\n",
       "      <th>dropoff_longitude</th>\n",
       "      <th>dropoff_latitude</th>\n",
       "      <th>passenger_count</th>\n",
       "      <th>longitude_diff</th>\n",
       "      <th>latitude_diff</th>\n",
       "      <th>H_Distance</th>\n",
       "    </tr>\n",
       "  </thead>\n",
       "  <tbody>\n",
       "    <tr>\n",
       "      <th>0</th>\n",
       "      <td>-73.844311</td>\n",
       "      <td>40.721319</td>\n",
       "      <td>-73.841610</td>\n",
       "      <td>40.712278</td>\n",
       "      <td>1.0</td>\n",
       "      <td>0.002701</td>\n",
       "      <td>-0.009041</td>\n",
       "      <td>1.030764</td>\n",
       "    </tr>\n",
       "    <tr>\n",
       "      <th>1</th>\n",
       "      <td>-74.016048</td>\n",
       "      <td>40.711303</td>\n",
       "      <td>-73.979268</td>\n",
       "      <td>40.782004</td>\n",
       "      <td>1.0</td>\n",
       "      <td>0.036780</td>\n",
       "      <td>0.070701</td>\n",
       "      <td>8.450134</td>\n",
       "    </tr>\n",
       "    <tr>\n",
       "      <th>2</th>\n",
       "      <td>-73.982738</td>\n",
       "      <td>40.761270</td>\n",
       "      <td>-73.991242</td>\n",
       "      <td>40.750562</td>\n",
       "      <td>2.0</td>\n",
       "      <td>-0.008504</td>\n",
       "      <td>-0.010708</td>\n",
       "      <td>1.389525</td>\n",
       "    </tr>\n",
       "    <tr>\n",
       "      <th>3</th>\n",
       "      <td>-73.987130</td>\n",
       "      <td>40.733143</td>\n",
       "      <td>-73.991567</td>\n",
       "      <td>40.758092</td>\n",
       "      <td>1.0</td>\n",
       "      <td>-0.004437</td>\n",
       "      <td>0.024949</td>\n",
       "      <td>2.799270</td>\n",
       "    </tr>\n",
       "    <tr>\n",
       "      <th>4</th>\n",
       "      <td>-73.968095</td>\n",
       "      <td>40.768008</td>\n",
       "      <td>-73.956655</td>\n",
       "      <td>40.783762</td>\n",
       "      <td>1.0</td>\n",
       "      <td>0.011440</td>\n",
       "      <td>0.015754</td>\n",
       "      <td>1.999157</td>\n",
       "    </tr>\n",
       "  </tbody>\n",
       "</table>\n",
       "</div>"
      ],
      "text/plain": [
       "   pickup_longitude  pickup_latitude  dropoff_longitude  dropoff_latitude  \\\n",
       "0        -73.844311        40.721319         -73.841610         40.712278   \n",
       "1        -74.016048        40.711303         -73.979268         40.782004   \n",
       "2        -73.982738        40.761270         -73.991242         40.750562   \n",
       "3        -73.987130        40.733143         -73.991567         40.758092   \n",
       "4        -73.968095        40.768008         -73.956655         40.783762   \n",
       "\n",
       "   passenger_count  longitude_diff  latitude_diff  H_Distance  \n",
       "0              1.0        0.002701      -0.009041    1.030764  \n",
       "1              1.0        0.036780       0.070701    8.450134  \n",
       "2              2.0       -0.008504      -0.010708    1.389525  \n",
       "3              1.0       -0.004437       0.024949    2.799270  \n",
       "4              1.0        0.011440       0.015754    1.999157  "
      ]
     },
     "execution_count": 1711,
     "metadata": {},
     "output_type": "execute_result"
    }
   ],
   "source": [
    "x_train.head()"
   ]
  },
  {
   "cell_type": "code",
   "execution_count": null,
   "metadata": {},
   "outputs": [],
   "source": []
  },
  {
   "cell_type": "code",
   "execution_count": 1712,
   "metadata": {},
   "outputs": [],
   "source": [
    "y_train = train_data['fare_amount']"
   ]
  },
  {
   "cell_type": "code",
   "execution_count": 1713,
   "metadata": {},
   "outputs": [],
   "source": [
    "x_test = test_df.drop('pickup_date_time', axis=1)"
   ]
  },
  {
   "cell_type": "code",
   "execution_count": 1714,
   "metadata": {},
   "outputs": [
    {
     "data": {
      "text/html": [
       "<div>\n",
       "<style scoped>\n",
       "    .dataframe tbody tr th:only-of-type {\n",
       "        vertical-align: middle;\n",
       "    }\n",
       "\n",
       "    .dataframe tbody tr th {\n",
       "        vertical-align: top;\n",
       "    }\n",
       "\n",
       "    .dataframe thead th {\n",
       "        text-align: right;\n",
       "    }\n",
       "</style>\n",
       "<table border=\"1\" class=\"dataframe\">\n",
       "  <thead>\n",
       "    <tr style=\"text-align: right;\">\n",
       "      <th></th>\n",
       "      <th>pickup_longitude</th>\n",
       "      <th>pickup_latitude</th>\n",
       "      <th>dropoff_longitude</th>\n",
       "      <th>dropoff_latitude</th>\n",
       "      <th>passenger_count</th>\n",
       "      <th>longitude_diff</th>\n",
       "      <th>latitude_diff</th>\n",
       "      <th>H_Distance</th>\n",
       "    </tr>\n",
       "  </thead>\n",
       "  <tbody>\n",
       "    <tr>\n",
       "      <th>0</th>\n",
       "      <td>-73.973320</td>\n",
       "      <td>40.763805</td>\n",
       "      <td>-73.981430</td>\n",
       "      <td>40.743835</td>\n",
       "      <td>1</td>\n",
       "      <td>-0.008110</td>\n",
       "      <td>-0.019970</td>\n",
       "      <td>2.323259</td>\n",
       "    </tr>\n",
       "    <tr>\n",
       "      <th>1</th>\n",
       "      <td>-73.986862</td>\n",
       "      <td>40.719383</td>\n",
       "      <td>-73.998886</td>\n",
       "      <td>40.739201</td>\n",
       "      <td>1</td>\n",
       "      <td>-0.012024</td>\n",
       "      <td>0.019817</td>\n",
       "      <td>2.425353</td>\n",
       "    </tr>\n",
       "    <tr>\n",
       "      <th>2</th>\n",
       "      <td>-73.982524</td>\n",
       "      <td>40.751260</td>\n",
       "      <td>-73.979654</td>\n",
       "      <td>40.746139</td>\n",
       "      <td>1</td>\n",
       "      <td>0.002870</td>\n",
       "      <td>-0.005121</td>\n",
       "      <td>0.618628</td>\n",
       "    </tr>\n",
       "    <tr>\n",
       "      <th>3</th>\n",
       "      <td>-73.981160</td>\n",
       "      <td>40.767807</td>\n",
       "      <td>-73.990448</td>\n",
       "      <td>40.751635</td>\n",
       "      <td>1</td>\n",
       "      <td>-0.009288</td>\n",
       "      <td>-0.016172</td>\n",
       "      <td>1.961033</td>\n",
       "    </tr>\n",
       "    <tr>\n",
       "      <th>4</th>\n",
       "      <td>-73.966046</td>\n",
       "      <td>40.789775</td>\n",
       "      <td>-73.988565</td>\n",
       "      <td>40.744427</td>\n",
       "      <td>1</td>\n",
       "      <td>-0.022519</td>\n",
       "      <td>-0.045348</td>\n",
       "      <td>5.387301</td>\n",
       "    </tr>\n",
       "  </tbody>\n",
       "</table>\n",
       "</div>"
      ],
      "text/plain": [
       "   pickup_longitude  pickup_latitude  dropoff_longitude  dropoff_latitude  \\\n",
       "0        -73.973320        40.763805         -73.981430         40.743835   \n",
       "1        -73.986862        40.719383         -73.998886         40.739201   \n",
       "2        -73.982524        40.751260         -73.979654         40.746139   \n",
       "3        -73.981160        40.767807         -73.990448         40.751635   \n",
       "4        -73.966046        40.789775         -73.988565         40.744427   \n",
       "\n",
       "   passenger_count  longitude_diff  latitude_diff  H_Distance  \n",
       "0                1       -0.008110      -0.019970    2.323259  \n",
       "1                1       -0.012024       0.019817    2.425353  \n",
       "2                1        0.002870      -0.005121    0.618628  \n",
       "3                1       -0.009288      -0.016172    1.961033  \n",
       "4                1       -0.022519      -0.045348    5.387301  "
      ]
     },
     "execution_count": 1714,
     "metadata": {},
     "output_type": "execute_result"
    }
   ],
   "source": [
    "x_test.head()"
   ]
  },
  {
   "cell_type": "code",
   "execution_count": 1715,
   "metadata": {},
   "outputs": [],
   "source": [
    "# Set up the models.\n",
    "# Linear Regression Model\n",
    "\n",
    "regr = LinearRegression()\n",
    "regr.fit(x_train, y_train)\n",
    "regr_pred = regr.predict(x_test)\n",
    "submission_rlg = pd.DataFrame({\n",
    "        \"PickupDateTime\": test_df[\"pickup_date_time\"],\n",
    "        \"FareAmount\": regr_pred.round(2)\n",
    "    })\n",
    "submission_rlg.to_csv('submission_rlg.csv', index=False)\n"
   ]
  },
  {
   "cell_type": "code",
   "execution_count": 1716,
   "metadata": {},
   "outputs": [
    {
     "name": "stderr",
     "output_type": "stream",
     "text": [
      "/home/priyanka/anaconda3/lib/python3.7/site-packages/sklearn/ensemble/forest.py:245: FutureWarning: The default value of n_estimators will change from 10 in version 0.20 to 100 in 0.22.\n",
      "  \"10 in version 0.20 to 100 in 0.22.\", FutureWarning)\n"
     ]
    }
   ],
   "source": [
    "# Random Forest Regressor\n",
    "\n",
    "rfr = RandomForestRegressor()\n",
    "rfr.fit(x_train, y_train)\n",
    "rfr_pred = rfr.predict(x_test)\n",
    "submission_rfr = pd.DataFrame({\n",
    "        \"PickupDateTime\": test_df[\"pickup_date_time\"],\n",
    "        \"FareAmount\": rfr_pred.round\n",
    "    })\n",
    "submission_rfr.to_csv('submission_rlg.csv', index=False)\n"
   ]
  },
  {
   "cell_type": "code",
   "execution_count": 1717,
   "metadata": {},
   "outputs": [],
   "source": [
    "x_pred = test_df.drop('pickup_date_time', axis=1)\n"
   ]
  },
  {
   "cell_type": "code",
   "execution_count": null,
   "metadata": {},
   "outputs": [],
   "source": []
  },
  {
   "cell_type": "code",
   "execution_count": 1718,
   "metadata": {},
   "outputs": [
    {
     "name": "stdout",
     "output_type": "stream",
     "text": [
      "[19:01:53] WARNING: /workspace/src/objective/regression_obj.cu:152: reg:linear is now deprecated in favor of reg:squarederror.\n",
      "[0]\ttest-rmse:10.0324\n",
      "Will train until test-rmse hasn't improved in 20 rounds.\n",
      "[1]\ttest-rmse:7.57422\n",
      "[2]\ttest-rmse:6.01646\n",
      "[3]\ttest-rmse:5.07141\n",
      "[4]\ttest-rmse:4.54148\n",
      "[5]\ttest-rmse:4.24371\n",
      "[6]\ttest-rmse:4.09199\n",
      "[7]\ttest-rmse:4.03429\n",
      "[8]\ttest-rmse:4.00746\n"
     ]
    },
    {
     "name": "stderr",
     "output_type": "stream",
     "text": [
      "/home/priyanka/anaconda3/lib/python3.7/site-packages/xgboost/core.py:587: FutureWarning: Series.base is deprecated and will be removed in a future version\n",
      "  if getattr(data, 'base', None) is not None and \\\n"
     ]
    },
    {
     "name": "stdout",
     "output_type": "stream",
     "text": [
      "[9]\ttest-rmse:3.98582\n",
      "[10]\ttest-rmse:3.99111\n",
      "[11]\ttest-rmse:3.99166\n",
      "[12]\ttest-rmse:3.99811\n",
      "[13]\ttest-rmse:4.00843\n",
      "[14]\ttest-rmse:4.0119\n",
      "[15]\ttest-rmse:4.01635\n",
      "[16]\ttest-rmse:4.01928\n",
      "[17]\ttest-rmse:4.02994\n",
      "[18]\ttest-rmse:4.02245\n",
      "[19]\ttest-rmse:4.01807\n",
      "[20]\ttest-rmse:4.02309\n",
      "[21]\ttest-rmse:4.05341\n",
      "[22]\ttest-rmse:4.0599\n",
      "[23]\ttest-rmse:4.06333\n",
      "[24]\ttest-rmse:4.06965\n",
      "[25]\ttest-rmse:4.06626\n",
      "[26]\ttest-rmse:4.06858\n",
      "[27]\ttest-rmse:4.07354\n",
      "[28]\ttest-rmse:4.07711\n",
      "[29]\ttest-rmse:4.07826\n",
      "Stopping. Best iteration:\n",
      "[9]\ttest-rmse:3.98582\n",
      "\n"
     ]
    }
   ],
   "source": [
    "# Let's run XGBoost and predict those fares!\n",
    "x_train,x_test,y_train,y_test = train_test_split(x_traindf.drop('fare_amount',axis=1),x_traindf.pop('fare_amount'),random_state=123,test_size=0.2)\n",
    "\n",
    "def XGBmodel(x_train,x_test,y_train,y_test):\n",
    "    matrix_train = xgb.DMatrix(x_train,label=y_train)\n",
    "    matrix_test = xgb.DMatrix(x_test,label=y_test)\n",
    "    model=xgb.train(params={'objective':'reg:linear','eval_metric':'rmse'}\n",
    "                    ,dtrain=matrix_train,num_boost_round=200, \n",
    "                    early_stopping_rounds=20,evals=[(matrix_test,'test')],)\n",
    "    return model\n",
    "\n",
    "model=XGBmodel(x_train,x_test,y_train,y_test)\n",
    "xgb_pred = model.predict(xgb.DMatrix(x_pred), ntree_limit = model.best_ntree_limit)"
   ]
  },
  {
   "cell_type": "code",
   "execution_count": 1719,
   "metadata": {},
   "outputs": [
    {
     "data": {
      "text/plain": [
       "(array([ 9.44910909, 11.41609667,  8.54967   , ..., 34.77959171,\n",
       "        15.60849613,  7.86886131]),\n",
       " array([ 8.79 , 10.07 ,  4.99 , ..., 47.486, 17.3  ,  6.51 ]),\n",
       " array([ 8.135204 ,  8.455567 ,  4.938401 , ..., 50.62392  , 20.41386  ,\n",
       "         6.0056047], dtype=float32))"
      ]
     },
     "execution_count": 1719,
     "metadata": {},
     "output_type": "execute_result"
    }
   ],
   "source": [
    "regr_pred, rfr_pred, xgb_pred"
   ]
  },
  {
   "cell_type": "code",
   "execution_count": 1720,
   "metadata": {},
   "outputs": [],
   "source": [
    "# Assigning weights. More precise models gets higher weight.\n",
    "regr_weight = 1\n",
    "rfr_weight = 1\n",
    "xgb_weight = 3\n",
    "prediction = (regr_pred * regr_weight + rfr_pred * rfr_weight + xgb_pred * xgb_weight) / (regr_weight + rfr_weight + xgb_weight)"
   ]
  },
  {
   "cell_type": "code",
   "execution_count": 1721,
   "metadata": {},
   "outputs": [
    {
     "data": {
      "text/plain": [
       "array([ 8.52894441,  9.37055994,  5.67097473, ..., 46.82747137,\n",
       "       18.83001542,  6.4791353 ])"
      ]
     },
     "execution_count": 1721,
     "metadata": {},
     "output_type": "execute_result"
    }
   ],
   "source": [
    "prediction"
   ]
  },
  {
   "cell_type": "code",
   "execution_count": 1722,
   "metadata": {},
   "outputs": [],
   "source": [
    "# Add to submission\n",
    "submission = pd.DataFrame({\n",
    "        \"pickup_DT\": test_df['pickup_date_time'],\n",
    "        \"fare_amount\": prediction.round(2)\n",
    "})\n",
    "\n",
    "submission.to_csv('sub_fare.csv',index=False)"
   ]
  },
  {
   "cell_type": "code",
   "execution_count": null,
   "metadata": {},
   "outputs": [],
   "source": []
  },
  {
   "cell_type": "code",
   "execution_count": null,
   "metadata": {},
   "outputs": [],
   "source": []
  },
  {
   "cell_type": "code",
   "execution_count": null,
   "metadata": {},
   "outputs": [],
   "source": []
  },
  {
   "cell_type": "code",
   "execution_count": null,
   "metadata": {},
   "outputs": [],
   "source": []
  }
 ],
 "metadata": {
  "kernelspec": {
   "display_name": "Python 3",
   "language": "python",
   "name": "python3"
  },
  "language_info": {
   "codemirror_mode": {
    "name": "ipython",
    "version": 3
   },
   "file_extension": ".py",
   "mimetype": "text/x-python",
   "name": "python",
   "nbconvert_exporter": "python",
   "pygments_lexer": "ipython3",
   "version": "3.7.3"
  }
 },
 "nbformat": 4,
 "nbformat_minor": 2
}
